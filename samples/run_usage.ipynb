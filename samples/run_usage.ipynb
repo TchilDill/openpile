{
 "cells": [
  {
   "attachments": {},
   "cell_type": "markdown",
   "metadata": {},
   "source": [
    "# Example 1 - "
   ]
  },
  {
   "cell_type": "code",
   "execution_count": null,
   "metadata": {},
   "outputs": [],
   "source": [
    "from openpile.construct import Pile\n",
    "\n",
    "# Create a pile instance with two sections of respectively 10m and 30m length.\n",
    "pile = Pile(\n",
    "    name=\"\",\n",
    "    kind=\"Circular\",\n",
    "    material=\"Steel\",\n",
    "    top_elevation=0,\n",
    "    pile_sections={\n",
    "        \"length\": [10, 30],\n",
    "        \"diameter\": [7.5, 7.5],\n",
    "        \"wall thickness\": [0.07, 0.08],\n",
    "    },\n",
    ")\n",
    "print(pile)"
   ]
  },
  {
   "attachments": {},
   "cell_type": "markdown",
   "metadata": {},
   "source": [
    "# Example 2 - Calculate and plot a p-y curve \n"
   ]
  },
  {
   "cell_type": "code",
   "execution_count": null,
   "metadata": {},
   "outputs": [],
   "source": [
    "# import p-y curve for api_sand from openpile.utils\n",
    "from openpile.utils.py_curves import api_sand\n",
    "\n",
    "y, p = api_sand(\n",
    "    sig=50,  # vertical stress in kPa\n",
    "    X=5,  # depth in meter\n",
    "    phi=35,  # internal angle of friction\n",
    "    D=5,  # the pile diameter\n",
    "    below_water_table=True,  # use initial subgrade modulus under water\n",
    "    kind=\"static\",  # static curve\n",
    ")\n",
    "\n",
    "# create a plot of the results with Matplotlib\n",
    "import matplotlib.pyplot as plt\n",
    "\n",
    "plt.plot(y, p)\n",
    "plt.ylabel(\"p [kN/m]\")\n",
    "plt.xlabel(\"y [m]\")\n",
    "\n",
    "plt.savefig(\"../docs/source/_static/usage/pycurves/api_sand_example_build.png\")\n"
   ]
  },
  {
   "attachments": {},
   "cell_type": "markdown",
   "metadata": {},
   "source": [
    "# Example 5 - Create a Model and run an analysis "
   ]
  },
  {
   "cell_type": "code",
   "execution_count": null,
   "metadata": {},
   "outputs": [],
   "source": [
    "from openpile.construct import Pile, SoilProfile, Layer, Model\n",
    "from openpile.soilmodels import API_clay, API_sand\n",
    "\n",
    "\n",
    "p = Pile.create_tubular(\n",
    "    name=\"<pile name>\", top_elevation=0, bottom_elevation=-40, diameter=7.5, wt=0.075\n",
    ")\n",
    "\n",
    "# Create a 40m deep offshore Soil Profile with a 15m water column\n",
    "sp = SoilProfile(\n",
    "    name=\"Offshore Soil Profile\",\n",
    "    top_elevation=0,\n",
    "    water_line=15,\n",
    "    layers=[\n",
    "        Layer(\n",
    "            name=\"medium dense sand\",\n",
    "            top=0,\n",
    "            bottom=-20,\n",
    "            weight=18,\n",
    "            lateral_model=API_sand(phi=33, kind=\"cyclic\"),\n",
    "        ),\n",
    "        Layer(\n",
    "            name=\"firm clay\",\n",
    "            top=-20,\n",
    "            bottom=-40,\n",
    "            weight=18,\n",
    "            lateral_model=API_clay(Su=[50, 70], eps50=0.015, kind=\"cyclic\"),\n",
    "        ),\n",
    "    ],\n",
    ")\n",
    "\n",
    "# Create Model\n",
    "M = Model(name=\"<model name>\", pile=p, soil=sp)\n",
    "\n",
    "# Apply bottom fixity along x-axis\n",
    "M.set_support(elevation=-40, Tz=True)\n",
    "# Apply axial and lateral loads\n",
    "# M.set_pointload(elevation=0, Pz=1e3, Py=1e3)\n",
    "M.set_pointdisplacement(elevation=-10, Ty=0.01)\n",
    "\n",
    "# Run analysis\n",
    "from openpile.analyze import winkler\n",
    "import matplotlib.pyplot as plt\n",
    "\n",
    "Result = winkler(M)\n",
    "\n",
    "# plot the results\n",
    "Result.plot()\n",
    "plt.savefig(\"../docs/source/_static/usage/analyses_plots/main_results_plot.png\")\n"
   ]
  },
  {
   "cell_type": "code",
   "execution_count": null,
   "metadata": {},
   "outputs": [],
   "source": [
    "from openpile.construct import Pile, Model\n",
    "\n",
    "\n",
    "p = Pile.create_tubular(\n",
    "    name=\"<pile name>\", top_elevation=0, bottom_elevation=-40, diameter=7.5, wt=0.075\n",
    ")\n",
    "\n",
    "# Create Model\n",
    "M = Model(name=\"<Only Beam>\", pile=p)\n",
    "\n",
    "# Apply bottom fixity along x-axis\n",
    "M.set_support(elevation=-40, Ty=True)\n",
    "M.set_support(elevation=-40, Tz=True)\n",
    "M.set_support(elevation=0, Ty=True)\n",
    "M.set_pointdisplacement(elevation=-20,Ty=0.001)\n",
    "# Apply axial and lateral loads\n",
    "M.set_pointload(elevation=-10, Pz=1000, Py=500)\n",
    "\n",
    "# Run analysis\n",
    "import matplotlib.pyplot as plt\n",
    "\n",
    "Result = M.solve()\n",
    "\n",
    "# plot the results\n",
    "Result.plot()\n"
   ]
  },
  {
   "cell_type": "code",
   "execution_count": 1,
   "metadata": {},
   "outputs": [
    {
     "name": "stdout",
     "output_type": "stream",
     "text": [
      "Not converged after 100 iterations.\n"
     ]
    },
    {
     "data": {
      "image/png": "[encoded data removed]",
      "text/plain": [
       "<Figure size 640x480 with 4 Axes>"
      ]
     },
     "metadata": {},
     "output_type": "display_data"
    }
   ],
   "source": [
    "from openpile.construct import Pile, SoilProfile, Layer, Model\n",
    "from openpile.soilmodels import API_clay, API_sand\n",
    "\n",
    "\n",
    "p = Pile.create_tubular(\n",
    "    name=\"<pile name>\", top_elevation=0, bottom_elevation=-5, diameter=2, wt=0.075\n",
    ")\n",
    "\n",
    "# Create a 40m deep offshore Soil Profile with a 15m water column\n",
    "sp = SoilProfile(\n",
    "    name=\"Offshore Soil Profile\",\n",
    "    top_elevation=0,\n",
    "    water_line=15,\n",
    "    layers=[\n",
    "        Layer(\n",
    "            name=\"medium dense sand\",\n",
    "            top=0,\n",
    "            bottom=-20,\n",
    "            weight=18,\n",
    "            lateral_model=API_sand(phi=33, kind=\"cyclic\"),\n",
    "        ),\n",
    "        Layer(\n",
    "            name=\"firm clay\",\n",
    "            top=-20,\n",
    "            bottom=-40,\n",
    "            weight=18,\n",
    "            lateral_model=API_clay(Su=[50, 70], eps50=0.015, kind=\"cyclic\"),\n",
    "        ),\n",
    "    ],\n",
    ")\n",
    "\n",
    "# Create Model\n",
    "M = Model(name=\"<model name>\", pile=p, soil=sp)\n",
    "\n",
    "# Apply bottom fixity along x-axis\n",
    "M.set_support(elevation=-5, Tz=True)\n",
    "# Apply axial and lateral loads\n",
    "# M.set_pointload(elevation=0, Pz=1e3, Py=1e3)\n",
    "M.set_pointdisplacement(elevation=0, Ty=0.01)\n",
    "\n",
    "# Run analysis\n",
    "from openpile.analyze import winkler\n",
    "import matplotlib.pyplot as plt\n",
    "\n",
    "Result = winkler(M)\n",
    "\n",
    "# plot the results\n",
    "Result.plot()\n",
    "plt.savefig(\"../docs/source/_static/usage/analyses_plots/main_results_plot.png\")\n"
   ]
  },
  {
   "cell_type": "code",
   "execution_count": null,
   "metadata": {},
   "outputs": [],
   "source": []
  }
 ],
 "metadata": {
  "kernelspec": {
   "display_name": ".venv",
   "language": "python",
   "name": "python3"
  },
  "language_info": {
   "codemirror_mode": {
    "name": "ipython",
    "version": 3
   },
   "file_extension": ".py",
   "mimetype": "text/x-python",
   "name": "python",
   "nbconvert_exporter": "python",
   "pygments_lexer": "ipython3",
   "version": "3.8.19"
  },
  "orig_nbformat": 4
 },
 "nbformat": 4,
 "nbformat_minor": 2
}
