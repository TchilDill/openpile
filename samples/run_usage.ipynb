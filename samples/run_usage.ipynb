{
 "cells": [
  {
   "attachments": {},
   "cell_type": "markdown",
   "metadata": {},
   "source": [
    "# Example 1 - "
   ]
  },
  {
   "cell_type": "code",
   "execution_count": 1,
   "metadata": {},
   "outputs": [
    {
     "ename": "ValidationError",
     "evalue": "4 validation errors for Pile\nsections\n  Field required [type=missing, input_value={'name': '', 'kind': 'Cir...ickness': [0.07, 0.08]}}, input_type=dict]\n    For further information visit https://errors.pydantic.dev/2.7/v/missing\nkind\n  Extra inputs are not permitted [type=extra_forbidden, input_value='Circular', input_type=str]\n    For further information visit https://errors.pydantic.dev/2.7/v/extra_forbidden\ntop_elevation\n  Extra inputs are not permitted [type=extra_forbidden, input_value=0, input_type=int]\n    For further information visit https://errors.pydantic.dev/2.7/v/extra_forbidden\npile_sections\n  Extra inputs are not permitted [type=extra_forbidden, input_value={'length': [10, 30], 'dia...hickness': [0.07, 0.08]}, input_type=dict]\n    For further information visit https://errors.pydantic.dev/2.7/v/extra_forbidden",
     "output_type": "error",
     "traceback": [
      "\u001b[0;31m---------------------------------------------------------------------------\u001b[0m",
      "\u001b[0;31mValidationError\u001b[0m                           Traceback (most recent call last)",
      "Cell \u001b[0;32mIn[1], line 4\u001b[0m\n\u001b[1;32m      1\u001b[0m \u001b[38;5;28;01mfrom\u001b[39;00m \u001b[38;5;21;01mopenpile\u001b[39;00m\u001b[38;5;21;01m.\u001b[39;00m\u001b[38;5;21;01mconstruct\u001b[39;00m \u001b[38;5;28;01mimport\u001b[39;00m Pile\n\u001b[1;32m      3\u001b[0m \u001b[38;5;66;03m# Create a pile instance with two sections of respectively 10m and 30m length.\u001b[39;00m\n\u001b[0;32m----> 4\u001b[0m pile \u001b[38;5;241m=\u001b[39m \u001b[43mPile\u001b[49m\u001b[43m(\u001b[49m\n\u001b[1;32m      5\u001b[0m \u001b[43m    \u001b[49m\u001b[43mname\u001b[49m\u001b[38;5;241;43m=\u001b[39;49m\u001b[38;5;124;43m\"\u001b[39;49m\u001b[38;5;124;43m\"\u001b[39;49m\u001b[43m,\u001b[49m\n\u001b[1;32m      6\u001b[0m \u001b[43m    \u001b[49m\u001b[43mkind\u001b[49m\u001b[38;5;241;43m=\u001b[39;49m\u001b[38;5;124;43m\"\u001b[39;49m\u001b[38;5;124;43mCircular\u001b[39;49m\u001b[38;5;124;43m\"\u001b[39;49m\u001b[43m,\u001b[49m\n\u001b[1;32m      7\u001b[0m \u001b[43m    \u001b[49m\u001b[43mmaterial\u001b[49m\u001b[38;5;241;43m=\u001b[39;49m\u001b[38;5;124;43m\"\u001b[39;49m\u001b[38;5;124;43mSteel\u001b[39;49m\u001b[38;5;124;43m\"\u001b[39;49m\u001b[43m,\u001b[49m\n\u001b[1;32m      8\u001b[0m \u001b[43m    \u001b[49m\u001b[43mtop_elevation\u001b[49m\u001b[38;5;241;43m=\u001b[39;49m\u001b[38;5;241;43m0\u001b[39;49m\u001b[43m,\u001b[49m\n\u001b[1;32m      9\u001b[0m \u001b[43m    \u001b[49m\u001b[43mpile_sections\u001b[49m\u001b[38;5;241;43m=\u001b[39;49m\u001b[43m{\u001b[49m\n\u001b[1;32m     10\u001b[0m \u001b[43m        \u001b[49m\u001b[38;5;124;43m\"\u001b[39;49m\u001b[38;5;124;43mlength\u001b[39;49m\u001b[38;5;124;43m\"\u001b[39;49m\u001b[43m:\u001b[49m\u001b[43m \u001b[49m\u001b[43m[\u001b[49m\u001b[38;5;241;43m10\u001b[39;49m\u001b[43m,\u001b[49m\u001b[43m \u001b[49m\u001b[38;5;241;43m30\u001b[39;49m\u001b[43m]\u001b[49m\u001b[43m,\u001b[49m\n\u001b[1;32m     11\u001b[0m \u001b[43m        \u001b[49m\u001b[38;5;124;43m\"\u001b[39;49m\u001b[38;5;124;43mdiameter\u001b[39;49m\u001b[38;5;124;43m\"\u001b[39;49m\u001b[43m:\u001b[49m\u001b[43m \u001b[49m\u001b[43m[\u001b[49m\u001b[38;5;241;43m7.5\u001b[39;49m\u001b[43m,\u001b[49m\u001b[43m \u001b[49m\u001b[38;5;241;43m7.5\u001b[39;49m\u001b[43m]\u001b[49m\u001b[43m,\u001b[49m\n\u001b[1;32m     12\u001b[0m \u001b[43m        \u001b[49m\u001b[38;5;124;43m\"\u001b[39;49m\u001b[38;5;124;43mwall thickness\u001b[39;49m\u001b[38;5;124;43m\"\u001b[39;49m\u001b[43m:\u001b[49m\u001b[43m \u001b[49m\u001b[43m[\u001b[49m\u001b[38;5;241;43m0.07\u001b[39;49m\u001b[43m,\u001b[49m\u001b[43m \u001b[49m\u001b[38;5;241;43m0.08\u001b[39;49m\u001b[43m]\u001b[49m\u001b[43m,\u001b[49m\n\u001b[1;32m     13\u001b[0m \u001b[43m    \u001b[49m\u001b[43m}\u001b[49m\u001b[43m,\u001b[49m\n\u001b[1;32m     14\u001b[0m \u001b[43m)\u001b[49m\n\u001b[1;32m     15\u001b[0m \u001b[38;5;28mprint\u001b[39m(pile)\n",
      "File \u001b[0;32m~/Desktop/svc/openpile/.venv/lib/python3.8/site-packages/pydantic/main.py:176\u001b[0m, in \u001b[0;36mBaseModel.__init__\u001b[0;34m(self, **data)\u001b[0m\n\u001b[1;32m    174\u001b[0m \u001b[38;5;66;03m# `__tracebackhide__` tells pytest and some other tools to omit this function from tracebacks\u001b[39;00m\n\u001b[1;32m    175\u001b[0m __tracebackhide__ \u001b[38;5;241m=\u001b[39m \u001b[38;5;28;01mTrue\u001b[39;00m\n\u001b[0;32m--> 176\u001b[0m \u001b[38;5;28;43mself\u001b[39;49m\u001b[38;5;241;43m.\u001b[39;49m\u001b[43m__pydantic_validator__\u001b[49m\u001b[38;5;241;43m.\u001b[39;49m\u001b[43mvalidate_python\u001b[49m\u001b[43m(\u001b[49m\u001b[43mdata\u001b[49m\u001b[43m,\u001b[49m\u001b[43m \u001b[49m\u001b[43mself_instance\u001b[49m\u001b[38;5;241;43m=\u001b[39;49m\u001b[38;5;28;43mself\u001b[39;49m\u001b[43m)\u001b[49m\n",
      "\u001b[0;31mValidationError\u001b[0m: 4 validation errors for Pile\nsections\n  Field required [type=missing, input_value={'name': '', 'kind': 'Cir...ickness': [0.07, 0.08]}}, input_type=dict]\n    For further information visit https://errors.pydantic.dev/2.7/v/missing\nkind\n  Extra inputs are not permitted [type=extra_forbidden, input_value='Circular', input_type=str]\n    For further information visit https://errors.pydantic.dev/2.7/v/extra_forbidden\ntop_elevation\n  Extra inputs are not permitted [type=extra_forbidden, input_value=0, input_type=int]\n    For further information visit https://errors.pydantic.dev/2.7/v/extra_forbidden\npile_sections\n  Extra inputs are not permitted [type=extra_forbidden, input_value={'length': [10, 30], 'dia...hickness': [0.07, 0.08]}, input_type=dict]\n    For further information visit https://errors.pydantic.dev/2.7/v/extra_forbidden"
     ]
    }
   ],
   "source": [
    "from openpile.construct import Pile\n",
    "\n",
    "# Create a pile instance with two sections of respectively 10m and 30m length.\n",
    "pile = Pile(\n",
    "    name=\"\",\n",
    "    kind=\"Circular\",\n",
    "    material=\"Steel\",\n",
    "    top_elevation=0,\n",
    "    pile_sections={\n",
    "        \"length\": [10, 30],\n",
    "        \"diameter\": [7.5, 7.5],\n",
    "        \"wall thickness\": [0.07, 0.08],\n",
    "    },\n",
    ")\n",
    "print(pile)"
   ]
  },
  {
   "attachments": {},
   "cell_type": "markdown",
   "metadata": {},
   "source": [
    "# Example 2 - Calculate and plot a p-y curve \n"
   ]
  },
  {
   "cell_type": "code",
   "execution_count": null,
   "metadata": {},
   "outputs": [],
   "source": [
    "# import p-y curve for api_sand from openpile.utils\n",
    "from openpile.utils.py_curves import api_sand\n",
    "\n",
    "y, p = api_sand(\n",
    "    sig=50,  # vertical stress in kPa\n",
    "    X=5,  # depth in meter\n",
    "    phi=35,  # internal angle of friction\n",
    "    D=5,  # the pile diameter\n",
    "    below_water_table=True,  # use initial subgrade modulus under water\n",
    "    kind=\"static\",  # static curve\n",
    ")\n",
    "\n",
    "# create a plot of the results with Matplotlib\n",
    "import matplotlib.pyplot as plt\n",
    "\n",
    "plt.plot(y, p)\n",
    "plt.ylabel(\"p [kN/m]\")\n",
    "plt.xlabel(\"y [m]\")\n",
    "\n",
    "plt.savefig(\"../docs/source/_static/usage/pycurves/api_sand_example_build.png\")\n"
   ]
  },
  {
   "attachments": {},
   "cell_type": "markdown",
   "metadata": {},
   "source": [
    "# Example 5 - Create a Model and run an analysis "
   ]
  },
  {
   "cell_type": "code",
   "execution_count": null,
   "metadata": {},
   "outputs": [],
   "source": [
    "from openpile.construct import Pile, SoilProfile, Layer, Model\n",
    "from openpile.soilmodels import API_clay, API_sand\n",
    "\n",
    "\n",
    "p = Pile.create_tubular(\n",
    "    name=\"<pile name>\", top_elevation=0, bottom_elevation=-40, diameter=7.5, wt=0.075\n",
    ")\n",
    "\n",
    "# Create a 40m deep offshore Soil Profile with a 15m water column\n",
    "sp = SoilProfile(\n",
    "    name=\"Offshore Soil Profile\",\n",
    "    top_elevation=0,\n",
    "    water_line=15,\n",
    "    layers=[\n",
    "        Layer(\n",
    "            name=\"medium dense sand\",\n",
    "            top=0,\n",
    "            bottom=-20,\n",
    "            weight=18,\n",
    "            lateral_model=API_sand(phi=33, kind=\"cyclic\"),\n",
    "        ),\n",
    "        Layer(\n",
    "            name=\"firm clay\",\n",
    "            top=-20,\n",
    "            bottom=-40,\n",
    "            weight=18,\n",
    "            lateral_model=API_clay(Su=[50, 70], eps50=0.015, kind=\"cyclic\"),\n",
    "        ),\n",
    "    ],\n",
    ")\n",
    "\n",
    "# Create Model\n",
    "M = Model(name=\"<model name>\", pile=p, soil=sp)\n",
    "\n",
    "# Apply bottom fixity along x-axis\n",
    "M.set_support(elevation=-40, Tx=True)\n",
    "# Apply axial and lateral loads\n",
    "M.set_pointload(elevation=0, Px=-20e3, Py=5e3)\n",
    "\n",
    "# Run analysis\n",
    "from openpile.analyze import winkler\n",
    "import matplotlib.pyplot as plt\n",
    "\n",
    "Result = winkler(M)\n",
    "\n",
    "# plot the results\n",
    "Result.plot()\n",
    "plt.savefig(\"../docs/source/_static/usage/analyses_plots/main_results_plot.png\")\n"
   ]
  },
  {
   "cell_type": "code",
   "execution_count": null,
   "metadata": {},
   "outputs": [],
   "source": [
    "Result.details()\n"
   ]
  },
  {
   "cell_type": "code",
   "execution_count": null,
   "metadata": {},
   "outputs": [],
   "source": []
  }
 ],
 "metadata": {
  "kernelspec": {
   "display_name": ".venv",
   "language": "python",
   "name": "python3"
  },
  "language_info": {
   "codemirror_mode": {
    "name": "ipython",
    "version": 3
   },
   "file_extension": ".py",
   "mimetype": "text/x-python",
   "name": "python",
   "nbconvert_exporter": "python",
   "pygments_lexer": "ipython3",
   "version": "3.8.16"
  },
  "orig_nbformat": 4
 },
 "nbformat": 4,
 "nbformat_minor": 2
}
