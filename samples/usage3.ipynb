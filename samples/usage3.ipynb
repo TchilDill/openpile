{
 "cells": [
  {
   "cell_type": "code",
   "execution_count": 1,
   "metadata": {},
   "outputs": [
    {
     "name": "stderr",
     "output_type": "stream",
     "text": [
      "/var/folders/4b/3_jhyggn2dxfqy54g1f91kx80000gn/T/ipykernel_13032/17804263.py:48: DeprecationWarning: \n",
      "The method Analyze.simple_winkler_analysis() will be removed in version 1.0.0.\n",
      "Please use the Analyze.winkler() instead.\n",
      "  Result = simple_winkler_analysis(M)\n"
     ]
    },
    {
     "name": "stdout",
     "output_type": "stream",
     "text": [
      "Cannot converge. Failure of the pile-soil system.\n",
      "\n",
      "                      Boundary conditions may not be realistic or values may be too large.\n"
     ]
    },
    {
     "ename": "UnboundLocalError",
     "evalue": "local variable 'Q' referenced before assignment",
     "output_type": "error",
     "traceback": [
      "\u001b[0;31m---------------------------------------------------------------------------\u001b[0m",
      "\u001b[0;31mUnboundLocalError\u001b[0m                         Traceback (most recent call last)",
      "Cell \u001b[0;32mIn[1], line 48\u001b[0m\n\u001b[1;32m     45\u001b[0m \u001b[38;5;66;03m# Run analysis\u001b[39;00m\n\u001b[1;32m     46\u001b[0m \u001b[38;5;28;01mfrom\u001b[39;00m \u001b[38;5;21;01mopenpile\u001b[39;00m\u001b[38;5;21;01m.\u001b[39;00m\u001b[38;5;21;01manalyze\u001b[39;00m \u001b[38;5;28;01mimport\u001b[39;00m simple_winkler_analysis\n\u001b[0;32m---> 48\u001b[0m Result \u001b[38;5;241m=\u001b[39m \u001b[43msimple_winkler_analysis\u001b[49m\u001b[43m(\u001b[49m\u001b[43mM\u001b[49m\u001b[43m)\u001b[49m\n\u001b[1;32m     50\u001b[0m \u001b[38;5;66;03m# plot the results\u001b[39;00m\n\u001b[1;32m     51\u001b[0m Result\u001b[38;5;241m.\u001b[39mplot()\n",
      "File \u001b[0;32m~/Desktop/svc/openpile/src/openpile/analyze.py:556\u001b[0m, in \u001b[0;36msimple_winkler_analysis\u001b[0;34m(model, max_iter)\u001b[0m\n\u001b[1;32m    546\u001b[0m \u001b[38;5;28;01mdef\u001b[39;00m \u001b[38;5;21msimple_winkler_analysis\u001b[39m(model, max_iter: \u001b[38;5;28mint\u001b[39m \u001b[38;5;241m=\u001b[39m \u001b[38;5;241m100\u001b[39m):\n\u001b[1;32m    547\u001b[0m \n\u001b[1;32m    548\u001b[0m     \u001b[38;5;66;03m# deprecation warning\u001b[39;00m\n\u001b[1;32m    549\u001b[0m     warnings\u001b[38;5;241m.\u001b[39mwarn(\n\u001b[1;32m    550\u001b[0m         \u001b[38;5;124m\"\u001b[39m\u001b[38;5;130;01m\\n\u001b[39;00m\u001b[38;5;124mThe method Analyze.simple_winkler_analysis() will be removed in version 1.0.0.\u001b[39m\u001b[38;5;124m\"\u001b[39m\n\u001b[1;32m    551\u001b[0m         \u001b[38;5;124m\"\u001b[39m\u001b[38;5;130;01m\\n\u001b[39;00m\u001b[38;5;124mPlease use the Analyze.winkler() instead.\u001b[39m\u001b[38;5;124m\"\u001b[39m,\n\u001b[1;32m    552\u001b[0m         \u001b[38;5;167;01mDeprecationWarning\u001b[39;00m,\n\u001b[1;32m    553\u001b[0m         stacklevel\u001b[38;5;241m=\u001b[39m\u001b[38;5;241m2\u001b[39m,\n\u001b[1;32m    554\u001b[0m     )\n\u001b[0;32m--> 556\u001b[0m     \u001b[38;5;28;01mreturn\u001b[39;00m \u001b[43mwinkler\u001b[49m\u001b[43m(\u001b[49m\u001b[43mmodel\u001b[49m\u001b[43m,\u001b[49m\u001b[43m \u001b[49m\u001b[43mmax_iter\u001b[49m\u001b[43m)\u001b[49m\n",
      "File \u001b[0;32m~/Desktop/svc/openpile/src/openpile/analyze.py:524\u001b[0m, in \u001b[0;36mwinkler\u001b[0;34m(model, max_iter)\u001b[0m\n\u001b[1;32m    517\u001b[0m q_int \u001b[38;5;241m=\u001b[39m kernel\u001b[38;5;241m.\u001b[39mpile_internal_forces(model, d)\n\u001b[1;32m    519\u001b[0m \u001b[38;5;66;03m# Final results\u001b[39;00m\n\u001b[1;32m    520\u001b[0m results \u001b[38;5;241m=\u001b[39m AnalyzeResult(\n\u001b[1;32m    521\u001b[0m     _name\u001b[38;5;241m=\u001b[39m\u001b[38;5;124mf\u001b[39m\u001b[38;5;124m\"\u001b[39m\u001b[38;5;132;01m{\u001b[39;00mmodel\u001b[38;5;241m.\u001b[39mname\u001b[38;5;132;01m}\u001b[39;00m\u001b[38;5;124m (\u001b[39m\u001b[38;5;132;01m{\u001b[39;00mmodel\u001b[38;5;241m.\u001b[39mpile\u001b[38;5;241m.\u001b[39mname\u001b[38;5;132;01m}\u001b[39;00m\u001b[38;5;124m/\u001b[39m\u001b[38;5;132;01m{\u001b[39;00mmodel\u001b[38;5;241m.\u001b[39msoil\u001b[38;5;241m.\u001b[39mname\u001b[38;5;132;01m}\u001b[39;00m\u001b[38;5;124m)\u001b[39m\u001b[38;5;124m\"\u001b[39m,\n\u001b[1;32m    522\u001b[0m     _d\u001b[38;5;241m=\u001b[39mdisp_to_df(model, d),\n\u001b[1;32m    523\u001b[0m     _f\u001b[38;5;241m=\u001b[39mstructural_forces_to_df(model, q_int),\n\u001b[0;32m--> 524\u001b[0m     _Q\u001b[38;5;241m=\u001b[39mreaction_forces_to_df(model, \u001b[43mQ\u001b[49m),\n\u001b[1;32m    525\u001b[0m     _dist_mob\u001b[38;5;241m=\u001b[39msprings_mob_to_df(model, d),\n\u001b[1;32m    526\u001b[0m     _hb_mob\u001b[38;5;241m=\u001b[39m(\n\u001b[1;32m    527\u001b[0m         \u001b[38;5;28mabs\u001b[39m(d[\u001b[38;5;241m-\u001b[39m\u001b[38;5;241m2\u001b[39m])\n\u001b[1;32m    528\u001b[0m         \u001b[38;5;241m*\u001b[39m kernel\u001b[38;5;241m.\u001b[39mcalculate_base_spring_stiffness(d[\u001b[38;5;241m-\u001b[39m\u001b[38;5;241m2\u001b[39m], model\u001b[38;5;241m.\u001b[39m_Hb_spring, kind\u001b[38;5;241m=\u001b[39m\u001b[38;5;124m\"\u001b[39m\u001b[38;5;124msecant\u001b[39m\u001b[38;5;124m\"\u001b[39m),\n\u001b[1;32m    529\u001b[0m         model\u001b[38;5;241m.\u001b[39m_Hb_spring\u001b[38;5;241m.\u001b[39mflatten()\u001b[38;5;241m.\u001b[39mmax(),\n\u001b[1;32m    530\u001b[0m     ),\n\u001b[1;32m    531\u001b[0m     _mb_mob\u001b[38;5;241m=\u001b[39m(\n\u001b[1;32m    532\u001b[0m         \u001b[38;5;28mabs\u001b[39m(d[\u001b[38;5;241m-\u001b[39m\u001b[38;5;241m1\u001b[39m])\n\u001b[1;32m    533\u001b[0m         \u001b[38;5;241m*\u001b[39m kernel\u001b[38;5;241m.\u001b[39mcalculate_base_spring_stiffness(d[\u001b[38;5;241m-\u001b[39m\u001b[38;5;241m1\u001b[39m], model\u001b[38;5;241m.\u001b[39m_Mb_spring, kind\u001b[38;5;241m=\u001b[39m\u001b[38;5;124m\"\u001b[39m\u001b[38;5;124msecant\u001b[39m\u001b[38;5;124m\"\u001b[39m),\n\u001b[1;32m    534\u001b[0m         model\u001b[38;5;241m.\u001b[39m_Mb_spring\u001b[38;5;241m.\u001b[39mflatten()\u001b[38;5;241m.\u001b[39mmax(),\n\u001b[1;32m    535\u001b[0m     ),\n\u001b[1;32m    536\u001b[0m     _details\u001b[38;5;241m=\u001b[39m{\n\u001b[1;32m    537\u001b[0m         \u001b[38;5;124m\"\u001b[39m\u001b[38;5;124mconverged @ iter no.\u001b[39m\u001b[38;5;124m\"\u001b[39m: iter_no,\n\u001b[1;32m    538\u001b[0m         \u001b[38;5;124m\"\u001b[39m\u001b[38;5;124merror [kN]\u001b[39m\u001b[38;5;124m\"\u001b[39m: \u001b[38;5;28mround\u001b[39m(np\u001b[38;5;241m.\u001b[39mlinalg\u001b[38;5;241m.\u001b[39mnorm(Rg[\u001b[38;5;241m~\u001b[39msupports]), \u001b[38;5;241m3\u001b[39m),\n\u001b[1;32m    539\u001b[0m         \u001b[38;5;124m\"\u001b[39m\u001b[38;5;124mtolerance [kN]\u001b[39m\u001b[38;5;124m\"\u001b[39m: \u001b[38;5;28mround\u001b[39m(nr_tol, \u001b[38;5;241m3\u001b[39m),\n\u001b[1;32m    540\u001b[0m     },\n\u001b[1;32m    541\u001b[0m )\n\u001b[1;32m    543\u001b[0m \u001b[38;5;28;01mreturn\u001b[39;00m results\n",
      "\u001b[0;31mUnboundLocalError\u001b[0m: local variable 'Q' referenced before assignment"
     ]
    }
   ],
   "source": [
    "from openpile.construct import Pile, SoilProfile, Layer, Model\n",
    "from openpile.soilmodels import API_clay, API_sand, API_clay_axial\n",
    "\n",
    "\n",
    "p = Pile.create_tubular(\n",
    "    name=\"<pile name>\", top_elevation=0, bottom_elevation=-39, diameter=10.0, wt=0.10\n",
    ")\n",
    "\n",
    "# Create a 40m deep offshore Soil Profile with a 15m water column\n",
    "sp = SoilProfile(\n",
    "    name=\"Offshore Soil Profile\",\n",
    "    top_elevation=0,\n",
    "    water_line=15,\n",
    "    layers=[\n",
    "        Layer(\n",
    "            name=\"medium dense sand\",\n",
    "            top=0,\n",
    "            bottom=-20,\n",
    "            weight=18,\n",
    "            lateral_model=API_sand(\n",
    "                phi=33,\n",
    "                kind=\"cyclic\",\n",
    "                extension=\"mt_curves\",\n",
    "            ),\n",
    "        ),\n",
    "        Layer(\n",
    "            name=\"firm clay\",\n",
    "            top=-20,\n",
    "            bottom=-40,\n",
    "            weight=18,\n",
    "            lateral_model=API_clay(Su=[50, 70], eps50=0.015, kind=\"cyclic\", extension=\"mt_curves\"),\n",
    "            axial_model=API_clay_axial(Su=70),\n",
    "        ),\n",
    "    ],\n",
    ")\n",
    "\n",
    "# Create Model\n",
    "M = Model(name=\"<model name>\", pile=p, soil=sp, )\n",
    "\n",
    "# Apply bottom fixity along x-axis\n",
    "M.set_support(elevation=-39, Ty=True)\n",
    "# Apply axial and lateral loads\n",
    "M.set_pointload(elevation=0, Mz=-600e3, Px=10e3)\n",
    "\n",
    "# Run analysis\n",
    "from openpile.analyze import simple_winkler_analysis\n",
    "\n",
    "Result = simple_winkler_analysis(M)\n",
    "\n",
    "# plot the results\n",
    "Result.plot()\n"
   ]
  },
  {
   "cell_type": "code",
   "execution_count": null,
   "metadata": {},
   "outputs": [
    {
     "ename": "AttributeError",
     "evalue": "'Model' object has no attribute '_qz_springs'",
     "output_type": "error",
     "traceback": [
      "\u001b[0;31m---------------------------------------------------------------------------\u001b[0m",
      "\u001b[0;31mAttributeError\u001b[0m                            Traceback (most recent call last)",
      "Cell \u001b[0;32mIn[2], line 1\u001b[0m\n\u001b[0;32m----> 1\u001b[0m \u001b[43mM\u001b[49m\u001b[38;5;241;43m.\u001b[39;49m\u001b[43m_qz_springs\u001b[49m[\u001b[38;5;241m-\u001b[39m\u001b[38;5;241m1\u001b[39m]\n",
      "File \u001b[0;32m~/Desktop/svc/openpile/.venv/lib/python3.8/site-packages/pydantic/main.py:811\u001b[0m, in \u001b[0;36mBaseModel.__getattr__\u001b[0;34m(self, item)\u001b[0m\n\u001b[1;32m    808\u001b[0m     \u001b[38;5;28;01mreturn\u001b[39;00m \u001b[38;5;28msuper\u001b[39m()\u001b[38;5;241m.\u001b[39m\u001b[38;5;21m__getattribute__\u001b[39m(item)  \u001b[38;5;66;03m# Raises AttributeError if appropriate\u001b[39;00m\n\u001b[1;32m    809\u001b[0m \u001b[38;5;28;01melse\u001b[39;00m:\n\u001b[1;32m    810\u001b[0m     \u001b[38;5;66;03m# this is the current error\u001b[39;00m\n\u001b[0;32m--> 811\u001b[0m     \u001b[38;5;28;01mraise\u001b[39;00m \u001b[38;5;167;01mAttributeError\u001b[39;00m(\u001b[38;5;124mf\u001b[39m\u001b[38;5;124m'\u001b[39m\u001b[38;5;132;01m{\u001b[39;00m\u001b[38;5;28mtype\u001b[39m(\u001b[38;5;28mself\u001b[39m)\u001b[38;5;241m.\u001b[39m\u001b[38;5;18m__name__\u001b[39m\u001b[38;5;132;01m!r}\u001b[39;00m\u001b[38;5;124m object has no attribute \u001b[39m\u001b[38;5;132;01m{\u001b[39;00mitem\u001b[38;5;132;01m!r}\u001b[39;00m\u001b[38;5;124m'\u001b[39m)\n",
      "\u001b[0;31mAttributeError\u001b[0m: 'Model' object has no attribute '_qz_springs'"
     ]
    }
   ],
   "source": [
    "M._qz_springs[-1]"
   ]
  },
  {
   "cell_type": "code",
   "execution_count": null,
   "metadata": {},
   "outputs": [
    {
     "data": {
      "text/plain": [
       "array([1, 2, 3, None], dtype=object)"
      ]
     },
     "execution_count": 5,
     "metadata": {},
     "output_type": "execute_result"
    }
   ],
   "source": [
    "import numpy as np\n",
    "\n",
    "np.append(np.array([1,2,3]), None)"
   ]
  },
  {
   "cell_type": "code",
   "execution_count": null,
   "metadata": {},
   "outputs": [
    {
     "data": {
      "text/plain": [
       "False"
      ]
     },
     "execution_count": 12,
     "metadata": {},
     "output_type": "execute_result"
    }
   ],
   "source": [
    "from openpile.calculate import shaft_resistance, unit_end_bearing, isplugged\n",
    "\n",
    "shaft_resistance(M,True, True)\n",
    "unit_end_bearing(M)*p.tip_footprint\n",
    "isplugged(M, method=\"API-87\", kind=\"tension\")"
   ]
  },
  {
   "cell_type": "code",
   "execution_count": null,
   "metadata": {},
   "outputs": [
    {
     "data": {
      "text/plain": [
       "8459.680697586553"
      ]
     },
     "execution_count": 5,
     "metadata": {},
     "output_type": "execute_result"
    }
   ],
   "source": [
    "from openpile.calculate import effective_pile_weight\n",
    "\n",
    "effective_pile_weight(M)\n"
   ]
  },
  {
   "cell_type": "code",
   "execution_count": null,
   "metadata": {},
   "outputs": [
    {
     "name": "stdout",
     "output_type": "stream",
     "text": [
      "Bottom elevation is higher than top elevation\n"
     ]
    },
    {
     "ename": "ValidationError",
     "evalue": "1 validation error for Layer\n__root__\n   (type=value_error)",
     "output_type": "error",
     "traceback": [
      "\u001b[0;31m---------------------------------------------------------------------------\u001b[0m",
      "\u001b[0;31mValidationError\u001b[0m                           Traceback (most recent call last)",
      "\u001b[0;32m/var/folders/4b/3_jhyggn2dxfqy54g1f91kx80000gn/T/ipykernel_3123/2852937594.py\u001b[0m in \u001b[0;36m<module>\u001b[0;34m\u001b[0m\n\u001b[1;32m      4\u001b[0m     \u001b[0mbottom\u001b[0m\u001b[0;34m=\u001b[0m\u001b[0;36m0\u001b[0m\u001b[0;34m,\u001b[0m\u001b[0;34m\u001b[0m\u001b[0;34m\u001b[0m\u001b[0m\n\u001b[1;32m      5\u001b[0m     \u001b[0mweight\u001b[0m\u001b[0;34m=\u001b[0m\u001b[0;36m19\u001b[0m\u001b[0;34m,\u001b[0m\u001b[0;34m\u001b[0m\u001b[0;34m\u001b[0m\u001b[0m\n\u001b[0;32m----> 6\u001b[0;31m     \u001b[0mlateral_model\u001b[0m\u001b[0;34m=\u001b[0m\u001b[0mAPI_clay\u001b[0m\u001b[0;34m(\u001b[0m\u001b[0mSu\u001b[0m\u001b[0;34m=\u001b[0m\u001b[0;34m[\u001b[0m\u001b[0;36m30\u001b[0m\u001b[0;34m,\u001b[0m \u001b[0;36m35\u001b[0m\u001b[0;34m]\u001b[0m\u001b[0;34m,\u001b[0m \u001b[0meps50\u001b[0m\u001b[0;34m=\u001b[0m\u001b[0;34m[\u001b[0m\u001b[0;36m0.01\u001b[0m\u001b[0;34m,\u001b[0m \u001b[0;36m0.02\u001b[0m\u001b[0;34m]\u001b[0m\u001b[0;34m,\u001b[0m \u001b[0mNeq\u001b[0m\u001b[0;34m=\u001b[0m\u001b[0;36m100\u001b[0m\u001b[0;34m)\u001b[0m\u001b[0;34m,\u001b[0m\u001b[0;34m\u001b[0m\u001b[0;34m\u001b[0m\u001b[0m\n\u001b[0m\u001b[1;32m      7\u001b[0m )\n",
      "\u001b[0;32m~/Desktop/svc/openpile/.venv/lib/python3.7/site-packages/pydantic/dataclasses.cpython-37m-darwin.so\u001b[0m in \u001b[0;36mpydantic.dataclasses._add_pydantic_validation_attributes.handle_extra_init\u001b[0;34m()\u001b[0m\n",
      "\u001b[0;32m~/Desktop/svc/openpile/src/openpile/construct.py\u001b[0m in \u001b[0;36m__init__\u001b[0;34m(self, name, top, bottom, weight, lateral_model, axial_model, color)\u001b[0m\n",
      "\u001b[0;32m~/Desktop/svc/openpile/.venv/lib/python3.7/site-packages/pydantic/dataclasses.cpython-37m-darwin.so\u001b[0m in \u001b[0;36mpydantic.dataclasses._add_pydantic_validation_attributes.new_post_init\u001b[0;34m()\u001b[0m\n",
      "\u001b[0;32m~/Desktop/svc/openpile/.venv/lib/python3.7/site-packages/pydantic/dataclasses.cpython-37m-darwin.so\u001b[0m in \u001b[0;36mpydantic.dataclasses._dataclass_validate_values\u001b[0;34m()\u001b[0m\n",
      "\u001b[0;31mValidationError\u001b[0m: 1 validation error for Layer\n__root__\n   (type=value_error)"
     ]
    }
   ],
   "source": [
    "layer = Layer(\n",
    "    name=\"Soft Clay\",\n",
    "    top=-10,\n",
    "    bottom=0,\n",
    "    weight=19,\n",
    "    lateral_model=API_clay(Su=[30, 35], eps50=[0.01, 0.02], Neq=100),\n",
    ")\n"
   ]
  },
  {
   "cell_type": "code",
   "execution_count": null,
   "metadata": {},
   "outputs": [],
   "source": [
    "from openpile.construct import SoilProfile, Layer\n",
    "from openpile.soilmodels import API_sand, API_clay\n",
    "\n",
    "# Create a 40m deep offshore Soil Profile with a 15m water column\n",
    "sp = SoilProfile(\n",
    "    name=\"Offshore Soil Profile\",\n",
    "    top_elevation=0,\n",
    "    water_line=15,\n",
    "    layers=[\n",
    "        Layer(\n",
    "            name=\"medium dense sand\",\n",
    "            top=0,\n",
    "            bottom=-20,\n",
    "            weight=18,\n",
    "            lateral_model=API_sand(phi=33, kind=\"cyclic\"),\n",
    "        ),\n",
    "        Layer(\n",
    "            name=\"firm clay\",\n",
    "            top=-20,\n",
    "            bottom=-40,\n",
    "            weight=18,\n",
    "            lateral_model=API_clay(Su=[50, 70], eps50=0.015, kind=\"cyclic\"),\n",
    "        ),\n",
    "    ],\n",
    ")\n",
    "\n",
    "print(sp)\n"
   ]
  },
  {
   "cell_type": "code",
   "execution_count": null,
   "metadata": {},
   "outputs": [],
   "source": [
    "from openpile.construct import Layer\n",
    "from openpile.soilmodels import API_clay\n",
    "\n",
    "# Create a layer\n",
    "layer1 = Layer(\n",
    "    name=\"Soft Clay\",\n",
    "    top=0,\n",
    "    bottom=-10,\n",
    "    weight=18,\n",
    "    lateral_model=API_clay(Su=[30, 35], eps50=[0.01, 0.02], kind=\"static\"),\n",
    ")\n",
    "\n",
    "print(layer1)\n"
   ]
  },
  {
   "cell_type": "code",
   "execution_count": null,
   "metadata": {},
   "outputs": [],
   "source": [
    "import matplotlib.pyplot as plt\n",
    "from openpile.utils.py_curves import api_sand\n",
    "\n",
    "p, y = api_sand(\n",
    "    sig=50,  # vertical stress in kPa\n",
    "    X=5,  # depth in meter\n",
    "    phi=35,  # internal angle of friction\n",
    "    D=5,  # the pile diameter\n",
    "    below_water_table=True,  # use initial subgrade modulus under water\n",
    "    kind=\"static\",  # static curve\n",
    ")\n",
    "\n",
    "plt.plot(y, p)\n",
    "plt.ylabel(\"p [kN/m]\")\n",
    "plt.xlabel(\"y [m]\")\n"
   ]
  },
  {
   "cell_type": "code",
   "execution_count": null,
   "metadata": {},
   "outputs": [],
   "source": [
    "from openpile.construct import Pile, SoilProfile, Layer, Model\n",
    "from openpile.soilmodels import Dunkirk_sand, Cowden_clay, API_clay\n",
    "\n",
    "# Create a pile instance with two sections of respectively 10m and 30m length.\n",
    "p = Pile.create(\n",
    "    name=\"\",\n",
    "    kind=\"Circular\",\n",
    "    material=\"Steel\",\n",
    "    top_elevation=0,\n",
    "    pile_sections={\n",
    "        \"length\": [6, 6],\n",
    "        \"diameter\": [2.0, 2.0],\n",
    "        \"wall thickness\": [0.07, 0.08],\n",
    "    },\n",
    ")\n",
    "\n",
    "# Create a 40m deep offshore Soil Profile with a 15m water column\n",
    "sp = SoilProfile(\n",
    "    name=\"Offshore Soil Profile\",\n",
    "    top_elevation=0,\n",
    "    water_line=15,\n",
    "    layers=[\n",
    "        Layer(\n",
    "            name=\"blabla 1\",\n",
    "            top=0,\n",
    "            bottom=-10,\n",
    "            weight=18,\n",
    "            lateral_model=Cowden_clay(Su=150, G0=30e3),\n",
    "        ),\n",
    "        Layer(\n",
    "            name=\"ohlalal\",\n",
    "            top=-10,\n",
    "            bottom=-30,\n",
    "            weight=18,\n",
    "            lateral_model=Cowden_clay(Su=150, G0=30e3),\n",
    "        ),\n",
    "    ],\n",
    ")\n",
    "\n",
    "sp.plot()\n"
   ]
  },
  {
   "cell_type": "code",
   "execution_count": null,
   "metadata": {},
   "outputs": [],
   "source": [
    "# import libraries\n",
    "from openpile.construct import Pile, Model\n",
    "from openpile.analyze import simple_beam_analysis\n",
    "\n",
    "# create pile\n",
    "pile = Pile(\n",
    "    name=\"\",\n",
    "    kind=\"Circular\",\n",
    "    material=\"Steel\",\n",
    "    top_elevation=0,\n",
    "    pile_sections={\"length\": [40], \"diameter\": [2], \"wall thickness\": [0.08]},\n",
    ")\n",
    "\n",
    "M = Model(name=\"\", pile=pile)\n",
    "M.set_support(elevation=0, Tx=True, Ty=True)\n",
    "M.set_support(elevation=-40, Ty=True)\n",
    "M.set_pointload(elevation=-20, Py=1000)\n",
    "\n",
    "result = simple_beam_analysis(M)\n"
   ]
  },
  {
   "cell_type": "code",
   "execution_count": null,
   "metadata": {},
   "outputs": [],
   "source": [
    "M.plot()\n"
   ]
  },
  {
   "cell_type": "code",
   "execution_count": null,
   "metadata": {},
   "outputs": [],
   "source": [
    "# import p-y curve for api_sand from openpile.utils\n",
    "from openpile.utils.py_curves import api_sand\n",
    "\n",
    "y, p = api_sand(\n",
    "    sig=50,  # vertical stress in kPa\n",
    "    X=5,  # depth in meter\n",
    "    phi=35,  # internal angle of friction\n",
    "    D=5,  # the pile diameter\n",
    "    below_water_table=True,  # use initial subgrade modulus under water\n",
    "    kind=\"cyclic\",  # static curve\n",
    ")\n",
    "\n",
    "# create a plot of the results with Matplotlib\n",
    "import matplotlib.pyplot as plt\n",
    "\n",
    "plt.plot(y, p)\n",
    "plt.ylabel(\"p [kN/m]\")\n",
    "plt.xlabel(\"y [m]\")\n"
   ]
  },
  {
   "cell_type": "code",
   "execution_count": null,
   "metadata": {},
   "outputs": [],
   "source": [
    "from openpile.construct import Pile, SoilProfile, Layer, Model\n",
    "from openpile.soilmodels import API_clay, API_sand\n",
    "\n",
    "\n",
    "p = Pile.create_tubular(\n",
    "    name=\"<pile name>\", top_elevation=0, bottom_elevation=-40, diameter=7, wt=0.050\n",
    ")\n",
    "\n",
    "# Create a 40m deep offshore Soil Profile with a 15m water column\n",
    "sps = SoilProfile(\n",
    "    name=\"Offshore Soil Profile\",\n",
    "    top_elevation=0,\n",
    "    water_line=15,\n",
    "    layers=[\n",
    "        Layer(\n",
    "            name=\"medium dense sand\",\n",
    "            top=0,\n",
    "            bottom=-40,\n",
    "            weight=18,\n",
    "            lateral_model=API_sand(\n",
    "                phi=33,\n",
    "                kind=\"static\",\n",
    "                extension=\"mt_curves\",\n",
    "            ),\n",
    "        ),\n",
    "    ],\n",
    ")\n",
    "\n",
    "# Create a 40m deep offshore Soil Profile with a 15m water column\n",
    "spc = SoilProfile(\n",
    "    name=\"Offshore Soil Profile\",\n",
    "    top_elevation=0,\n",
    "    water_line=15,\n",
    "    layers=[\n",
    "        Layer(\n",
    "            name=\"medium dense sand\",\n",
    "            top=0,\n",
    "            bottom=-50,\n",
    "            weight=18,\n",
    "            lateral_model=API_sand(phi=33, kind=\"cyclic\", extension=\"mt_curves\"),\n",
    "        ),\n",
    "    ],\n",
    ")\n",
    "\n",
    "# Create Model\n",
    "M = Model(name=\"<model name>\", pile=p, soil=spc)\n",
    "\n",
    "# Apply bottom fixity along x-axis\n",
    "M.set_support(elevation=-40, Tx=True)\n",
    "# Apply axial and lateral loads\n",
    "M.set_pointload(elevation=0, Mz=-600e3, Py=30e3)\n",
    "\n",
    "# Run analysis\n",
    "from openpile.analyze import winkler\n",
    "\n",
    "Result = winkler(M)\n",
    "\n",
    "# plot the results\n",
    "Result.plot()\n",
    "\n",
    "M.soil_properties\n"
   ]
  },
  {
   "cell_type": "code",
   "execution_count": null,
   "metadata": {},
   "outputs": [],
   "source": [
    "M.get_py_springs()\n"
   ]
  },
  {
   "cell_type": "markdown",
   "metadata": {},
   "source": [
    "### Check if multipliers work"
   ]
  },
  {
   "cell_type": "code",
   "execution_count": null,
   "metadata": {},
   "outputs": [],
   "source": [
    "from openpile.construct import Layer\n",
    "from openpile.soilmodels import API_sand\n",
    "from openpile.utils.multipliers import durkhop\n",
    "\n",
    "# Create a Layer with API_sand and monotonic curves with Durkhop approach\n",
    "Layer(\n",
    "    name=\"medium dense sand\",\n",
    "    top=0,\n",
    "    bottom=-40,\n",
    "    weight=18,\n",
    "    lateral_model=API_sand(phi=33, kind=\"cyclic\", p_multiplier=durkhop(D=7.0, ra=1.0)),\n",
    ")\n"
   ]
  },
  {
   "cell_type": "code",
   "execution_count": null,
   "metadata": {},
   "outputs": [],
   "source": [
    "from openpile.construct import Pile, SoilProfile, Layer, Model\n",
    "from openpile.soilmodels import API_sand\n",
    "from openpile.utils.multipliers import durkhop\n",
    "\n",
    "p = Pile.create_tubular(\n",
    "    name=\"<pile name>\", top_elevation=0, bottom_elevation=-40, diameter=7, wt=0.050\n",
    ")\n",
    "\n",
    "# Create a 40m deep offshore Soil Profile with a 15m water column\n",
    "sps = SoilProfile(\n",
    "    name=\"Offshore Soil Profile\",\n",
    "    top_elevation=0,\n",
    "    water_line=15,\n",
    "    layers=[\n",
    "        Layer(\n",
    "            name=\"medium dense sand\",\n",
    "            top=0,\n",
    "            bottom=-40,\n",
    "            weight=18,\n",
    "            lateral_model=API_sand(phi=33, kind=\"static\"),\n",
    "        ),\n",
    "    ],\n",
    ")\n",
    "\n",
    "# Create a 40m deep offshore Soil Profile with a 15m water column\n",
    "spc = SoilProfile(\n",
    "    name=\"Offshore Soil Profile\",\n",
    "    top_elevation=0,\n",
    "    water_line=15,\n",
    "    layers=[\n",
    "        Layer(\n",
    "            name=\"medium dense sand\",\n",
    "            top=0,\n",
    "            bottom=-40,\n",
    "            weight=18,\n",
    "            lateral_model=API_sand(phi=33, kind=\"cyclic\", p_multiplier=durkhop(D=7, ra=1.0)),\n",
    "        ),\n",
    "    ],\n",
    ")\n",
    "\n",
    "# Create Model\n",
    "M = Model(name=\"<model name>\", pile=p, soil=sps)\n",
    "# Apply bottom fixity along x-axis\n",
    "M.set_support(elevation=-40, Tx=True)\n",
    "# Apply axial and lateral loads\n",
    "M.set_pointload(elevation=0, Mz=-300e3, Py=30e3)\n",
    "\n",
    "# Run analysis\n",
    "from openpile.analyze import winkler\n",
    "\n",
    "Result = winkler(M)\n",
    "\n",
    "# plot the results\n",
    "Result.details()[\"Max. deflection [m]\"]\n"
   ]
  },
  {
   "cell_type": "code",
   "execution_count": null,
   "metadata": {},
   "outputs": [],
   "source": [
    "from openpile.utils.tz_curves import kraft_modification\n",
    "\n",
    "y, p = kraft_modification(\n",
    "    10, 1, 1, output_length=20\n",
    ")"
   ]
  },
  {
   "cell_type": "code",
   "execution_count": null,
   "metadata": {},
   "outputs": [
    {
     "data": {
      "text/plain": [
       "19"
      ]
     },
     "execution_count": 8,
     "metadata": {},
     "output_type": "execute_result"
    }
   ],
   "source": [
    "import matplotlib.pyplot as plt\n",
    "\n",
    "len(p)"
   ]
  },
  {
   "cell_type": "code",
   "execution_count": null,
   "metadata": {},
   "outputs": [
    {
     "data": {
      "text/plain": [
       "7"
      ]
     },
     "execution_count": 3,
     "metadata": {},
     "output_type": "execute_result"
    }
   ],
   "source": [
    "length = 15\n",
    "round(length/2)-1"
   ]
  },
  {
   "cell_type": "code",
   "execution_count": null,
   "metadata": {},
   "outputs": [],
   "source": [
    "length -= 1"
   ]
  },
  {
   "cell_type": "code",
   "execution_count": null,
   "metadata": {},
   "outputs": [
    {
     "data": {
      "text/plain": [
       "14"
      ]
     },
     "execution_count": 5,
     "metadata": {},
     "output_type": "execute_result"
    }
   ],
   "source": [
    "length"
   ]
  },
  {
   "cell_type": "code",
   "execution_count": null,
   "metadata": {},
   "outputs": [],
   "source": [
    "import numpy as np\n",
    "\n",
    "arr = np.array([[\n",
    "[\n",
    "    [1, 2, 3],\n",
    "    [4, 5, 6],\n",
    "    [7, 8, 9]\n",
    "]]\n",
    "])"
   ]
  },
  {
   "cell_type": "code",
   "execution_count": null,
   "metadata": {},
   "outputs": [
    {
     "data": {
      "text/plain": [
       "(1, 1, 3, 3)"
      ]
     },
     "execution_count": 12,
     "metadata": {},
     "output_type": "execute_result"
    }
   ],
   "source": [
    "arr.shape"
   ]
  },
  {
   "cell_type": "code",
   "execution_count": null,
   "metadata": {},
   "outputs": [
    {
     "data": {
      "text/plain": [
       "3"
      ]
     },
     "execution_count": 13,
     "metadata": {},
     "output_type": "execute_result"
    }
   ],
   "source": [
    "arr.shape[-1]"
   ]
  },
  {
   "cell_type": "code",
   "execution_count": null,
   "metadata": {},
   "outputs": [],
   "source": []
  }
 ],
 "metadata": {
  "kernelspec": {
   "display_name": ".venv",
   "language": "python",
   "name": "python3"
  },
  "language_info": {
   "codemirror_mode": {
    "name": "ipython",
    "version": 3
   },
   "file_extension": ".py",
   "mimetype": "text/x-python",
   "name": "python",
   "nbconvert_exporter": "python",
   "pygments_lexer": "ipython3",
   "version": "3.8.16"
  },
  "orig_nbformat": 4,
  "vscode": {
   "interpreter": {
    "hash": "cbaae394acf5e528bdcdac8f38f8f9c53f7fa63e5b576ba2affc58787d65d7fc"
   }
  }
 },
 "nbformat": 4,
 "nbformat_minor": 2
}
